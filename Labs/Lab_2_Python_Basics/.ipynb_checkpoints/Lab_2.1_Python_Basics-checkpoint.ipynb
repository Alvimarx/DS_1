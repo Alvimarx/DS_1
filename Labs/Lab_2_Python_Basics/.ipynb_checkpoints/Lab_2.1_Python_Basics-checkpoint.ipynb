{
 "cells": [
  {
   "cell_type": "markdown",
   "metadata": {},
   "source": [
    "<p><img alt=\"DataOwl\" width=150 src=\"http://gwsolutions.cl/Images/dataowl.png\", align=\"left\", hspace=0, vspace=5></p>\n",
    "\n",
    "<h1 align=\"center\">Conceptos Básicos de Python</h1>\n",
    "\n",
    "<h4 align=\"center\">Comenzando con la programación</h4>\n",
    "<pre><div align=\"center\"> La idea de este notebook es que sirva como apoyo para iniciarse en la programación en Python.</div>\n",
    "\n",
    "\n",
    "<div align=\"right\"> En términos de código y estructura, este notebook esta basado en el BootCamp \n",
    "<a href=\"https://github.com/Shekhar-rv/Python-for-Data-Science-and-Machine-Learning-Bootcamp\">Python for Data Science and Machine Learning</a>.\n",
    ".</div></pre>"
   ]
  },
  {
   "cell_type": "markdown",
   "metadata": {},
   "source": [
    "<h2>Secciones</h2>\n",
    "\n",
    "<div class=\"alert alert-danger\" role=\"alert\">\n",
    "<ol>\n",
    "    <li><a href=\"#section1\"> Tipos de Datos</a></li>\n",
    "    <li><a href=\"#section2\"> Tipos de Operadores </a></li>\n",
    "    <li><a href=\"#section3\"> Sentencias Condicionales </a></li>\n",
    "    <li><a href=\"#section4\"> Ciclos</a></li>\n",
    "    <li><a href=\"#section5\"> Funciones </a></li>\n",
    "    <li><a href=\"#section6\"> Ejercicios</a></li>\n",
    "</ol>\n",
    "</div>\n",
    "\n",
    "<hr>"
   ]
  },
  {
   "cell_type": "markdown",
   "metadata": {},
   "source": [
    "<a id=\"section1\"></a>\n",
    "<h2>1. Tipos de Datos</h2>\n",
    "<hr>\n",
    "En Python tiene varios tipos de datos compuestos estándar disponibles por defecto en el interprete, como los tipos numéricos, booleanos, secuencias, conjuntos y diccionarios usados para agrupar otros valores.\n",
    "\n",
    "Para el caso de las estructuras de datos se usan variables y constantes las cuales usan operadores para tratar los tipos de datos estándar."
   ]
  },
  {
   "cell_type": "code",
   "execution_count": 1,
   "metadata": {},
   "outputs": [],
   "source": [
    "#Datos númericos\n",
    "\n",
    "x = 2            # Enteros\n",
    "y = 2.0          # float (decimales)\n",
    "z = 2 + 3j       # Complejos"
   ]
  },
  {
   "cell_type": "code",
   "execution_count": 5,
   "metadata": {},
   "outputs": [],
   "source": [
    "# Booleanos\n",
    "\n",
    "x = True\n",
    "y = False"
   ]
  },
  {
   "cell_type": "code",
   "execution_count": 9,
   "metadata": {},
   "outputs": [],
   "source": [
    "# Secuencias\n",
    "\n",
    "x = \"Hola Mundo\"            # Strings\n",
    "y = [1 , 2 , 3 , 4 , 5]     # Listas\n",
    "z = (1 , 2 , 3 , 4 , 5)     # Tuplas"
   ]
  },
  {
   "cell_type": "code",
   "execution_count": 24,
   "metadata": {},
   "outputs": [],
   "source": [
    "# Conjuntos\n",
    "\n",
    "x = {1 , 2 , 3 , 4 , 5}"
   ]
  },
  {
   "cell_type": "code",
   "execution_count": 30,
   "metadata": {},
   "outputs": [],
   "source": [
    "# Diccionarios\n",
    "\n",
    "x = {\"Ana\" : \"Profesora\" , \"Jorge\" : \"Director\" , \"Luis\" : \"Alumno/a\" , \"Marcela\" : \"Alumno/a\" }"
   ]
  },
  {
   "cell_type": "markdown",
   "metadata": {},
   "source": [
    "<a id=\"section2\"></a>\n",
    "<h2>2. Tipos de Operadores</h2>\n",
    "<hr>\n",
    "<h3>2.1 Operadores Aritméticos</h3>\n",
    "\n",
    "Los valores numéricos pueden operarse mediante una serie de operadores aritméticos y matemáticos:"
   ]
  },
  {
   "cell_type": "code",
   "execution_count": 36,
   "metadata": {},
   "outputs": [],
   "source": [
    "# Asignación de variables\n",
    "\n",
    "x = 5\n",
    "y = 2"
   ]
  },
  {
   "cell_type": "code",
   "execution_count": 38,
   "metadata": {},
   "outputs": [
    {
     "name": "stdout",
     "output_type": "stream",
     "text": [
      "7\n"
     ]
    }
   ],
   "source": [
    "# Suma\n",
    "\n",
    "z = x + y\n",
    "print(z)"
   ]
  },
  {
   "cell_type": "code",
   "execution_count": 39,
   "metadata": {},
   "outputs": [
    {
     "name": "stdout",
     "output_type": "stream",
     "text": [
      "3\n"
     ]
    }
   ],
   "source": [
    "# Resta\n",
    "\n",
    "z = x - y\n",
    "print(z)"
   ]
  },
  {
   "cell_type": "code",
   "execution_count": 40,
   "metadata": {},
   "outputs": [
    {
     "name": "stdout",
     "output_type": "stream",
     "text": [
      "10\n"
     ]
    }
   ],
   "source": [
    "# Multiplicación\n",
    "\n",
    "z = x * y\n",
    "print(z)"
   ]
  },
  {
   "cell_type": "code",
   "execution_count": 41,
   "metadata": {},
   "outputs": [
    {
     "name": "stdout",
     "output_type": "stream",
     "text": [
      "2.5\n"
     ]
    }
   ],
   "source": [
    "# División\n",
    "\n",
    "z = x / y\n",
    "print(z)"
   ]
  },
  {
   "cell_type": "code",
   "execution_count": 42,
   "metadata": {},
   "outputs": [
    {
     "name": "stdout",
     "output_type": "stream",
     "text": [
      "2\n"
     ]
    }
   ],
   "source": [
    "# División Entera\n",
    "\n",
    "z = x // y\n",
    "print(z)"
   ]
  },
  {
   "cell_type": "code",
   "execution_count": 44,
   "metadata": {},
   "outputs": [
    {
     "name": "stdout",
     "output_type": "stream",
     "text": [
      "1\n"
     ]
    }
   ],
   "source": [
    "# Resto Modular\n",
    "\n",
    "z = x % y\n",
    "print(z)"
   ]
  },
  {
   "cell_type": "code",
   "execution_count": 45,
   "metadata": {},
   "outputs": [
    {
     "name": "stdout",
     "output_type": "stream",
     "text": [
      "25\n"
     ]
    }
   ],
   "source": [
    "# Exponenciación\n",
    "\n",
    "z = x**y\n",
    "print(z)"
   ]
  },
  {
   "cell_type": "markdown",
   "metadata": {},
   "source": [
    "<h3>2.2 Operadores Relacionales</h3>\n",
    "\n",
    "Los operadores relacionales nos permiten ver si dos variables o constantes cumplen una relación de orden o de equivalencia. Los valores booleanos son además el resultado de expresiones que utilizan operadores relacionales:"
   ]
  },
  {
   "cell_type": "code",
   "execution_count": 46,
   "metadata": {},
   "outputs": [],
   "source": [
    "# Asignación de variables\n",
    "\n",
    "x = 5\n",
    "y = 2"
   ]
  },
  {
   "cell_type": "code",
   "execution_count": 47,
   "metadata": {},
   "outputs": [
    {
     "data": {
      "text/plain": [
       "False"
      ]
     },
     "execution_count": 47,
     "metadata": {},
     "output_type": "execute_result"
    }
   ],
   "source": [
    "# Relación de igualdad\n",
    "\n",
    "x == y"
   ]
  },
  {
   "cell_type": "code",
   "execution_count": 48,
   "metadata": {},
   "outputs": [
    {
     "data": {
      "text/plain": [
       "True"
      ]
     },
     "execution_count": 48,
     "metadata": {},
     "output_type": "execute_result"
    }
   ],
   "source": [
    "# Relación de desigualdad\n",
    "\n",
    "x != y"
   ]
  },
  {
   "cell_type": "code",
   "execution_count": 49,
   "metadata": {},
   "outputs": [
    {
     "data": {
      "text/plain": [
       "True"
      ]
     },
     "execution_count": 49,
     "metadata": {},
     "output_type": "execute_result"
    }
   ],
   "source": [
    "# Relación de Mayor o igual\n",
    "\n",
    "x >= y"
   ]
  },
  {
   "cell_type": "markdown",
   "metadata": {},
   "source": [
    "<h3>2.3 Operadores de Asignación</h3>\n",
    "\n",
    "Existe en Python todo un grupo de operadores los cuales le permiten básicamente asignar un valor a una variable, usando el operador “=”. Con estos operadores pueden aplicar la técnica denominada asignación aumentada."
   ]
  },
  {
   "cell_type": "code",
   "execution_count": 50,
   "metadata": {},
   "outputs": [],
   "source": [
    "# Asignación de variables\n",
    "\n",
    "x = 5"
   ]
  },
  {
   "cell_type": "code",
   "execution_count": 54,
   "metadata": {},
   "outputs": [
    {
     "name": "stdout",
     "output_type": "stream",
     "text": [
      "17\n"
     ]
    }
   ],
   "source": [
    "# Asignación aumentada\n",
    "\n",
    "x += 3\n",
    "print(x)"
   ]
  },
  {
   "cell_type": "markdown",
   "metadata": {},
   "source": [
    "<h3>2.4 Operadores de Pertenencia</h3>\n",
    "\n",
    "Este tipo de operadores evalúan si un objeto pertenece a otro. Hay dos: in y not in, que es el complementario del anterior. "
   ]
  },
  {
   "cell_type": "code",
   "execution_count": 55,
   "metadata": {},
   "outputs": [],
   "source": [
    "# Asignación de variables\n",
    "\n",
    "x = \"curso\"\n",
    "y = \"Bienvenidos al curso\"\n",
    "\n",
    "n = 7\n",
    "z = [ 1 , 2 , 3 , 4 , 5]"
   ]
  },
  {
   "cell_type": "code",
   "execution_count": 56,
   "metadata": {},
   "outputs": [
    {
     "data": {
      "text/plain": [
       "True"
      ]
     },
     "execution_count": 56,
     "metadata": {},
     "output_type": "execute_result"
    }
   ],
   "source": [
    "# Operador in\n",
    "\n",
    "x in y"
   ]
  },
  {
   "cell_type": "code",
   "execution_count": 59,
   "metadata": {},
   "outputs": [
    {
     "data": {
      "text/plain": [
       "True"
      ]
     },
     "execution_count": 59,
     "metadata": {},
     "output_type": "execute_result"
    }
   ],
   "source": [
    "# Operador  not in\n",
    "\n",
    "n not in z"
   ]
  },
  {
   "cell_type": "markdown",
   "metadata": {},
   "source": [
    "<h3>2.5 Operadores Lógicos</h3>\n",
    "\n",
    "Python también incluye varios operadores lógicos: and, or y not. El primero devuelve True cuando ambos valores son True, el segundo devuelve True cuando algún valor es True, y el tercero devuelve True cuando el valor al que se aplica toma el valor False:"
   ]
  },
  {
   "cell_type": "code",
   "execution_count": 60,
   "metadata": {},
   "outputs": [],
   "source": [
    "# Asignación de variables\n",
    "\n",
    "x = (5 == 3)\n",
    "y = (7 <= 12)"
   ]
  },
  {
   "cell_type": "code",
   "execution_count": 63,
   "metadata": {},
   "outputs": [
    {
     "data": {
      "text/plain": [
       "False"
      ]
     },
     "execution_count": 63,
     "metadata": {},
     "output_type": "execute_result"
    }
   ],
   "source": [
    "# Conjunción and\n",
    "\n",
    "x and y"
   ]
  },
  {
   "cell_type": "code",
   "execution_count": 64,
   "metadata": {},
   "outputs": [
    {
     "data": {
      "text/plain": [
       "True"
      ]
     },
     "execution_count": 64,
     "metadata": {},
     "output_type": "execute_result"
    }
   ],
   "source": [
    "# Disyunción or\n",
    "\n",
    "x or y"
   ]
  },
  {
   "cell_type": "markdown",
   "metadata": {},
   "source": [
    "<a id=\"section3\"></a>\n",
    "<h2>3. Sentencias Condicionales</h2>\n",
    "<hr>\n",
    "La sentencia condicional if nos permite comprobar si se cumple una cierta condición con el fin de ejecutar un proceso u otro. En su forma más simple se utiliza la palabra reservada if seguida de la condición a probar y dos puntos.\n",
    "\n",
    "Si queremos especificar qué código hay que ejecutar en el caso de que la condición no se cumpla podemos añadir la sentencia else, además podemos añadir tantas instrucciones elif como deseemos. Se evaluarán en orden y así que se cumpla una de las condiciones:"
   ]
  },
  {
   "cell_type": "code",
   "execution_count": 68,
   "metadata": {
    "code_folding": []
   },
   "outputs": [
    {
     "name": "stdout",
     "output_type": "stream",
     "text": [
      "El número es 0\n"
     ]
    }
   ],
   "source": [
    "# Sentencia condicional\n",
    "\n",
    "n = 0\n",
    "\n",
    "if n > 0:\n",
    "    print(\"El número es positivo\")\n",
    "    \n",
    "elif n < 0:\n",
    "    print(\"El número es negativo\")\n",
    "    \n",
    "else:\n",
    "    print(\"El número es 0\")"
   ]
  },
  {
   "cell_type": "markdown",
   "metadata": {},
   "source": [
    "<a id=\"section4\"></a>\n",
    "<h2>4. Ciclos</h2>\n",
    "<hr>\n",
    "En Python se pueden utilizar dos tipos de ciclos, los for y while. Se utilizan los ciclos for cuando conoces la cantidad de repeticiones y los ciclos while cuando la cantidad de repeticiones depende de que se cumpla una condición.\n",
    "<hr>\n",
    "<h3>4.1 Ciclos for</h3>\n",
    "\n",
    "El ciclo for nos permite ejecutar un proceso un número determinado de veces o para un conjunto determinado de valores:"
   ]
  },
  {
   "cell_type": "code",
   "execution_count": 69,
   "metadata": {},
   "outputs": [
    {
     "name": "stdout",
     "output_type": "stream",
     "text": [
      "1\n",
      "2\n",
      "3\n",
      "4\n",
      "5\n"
     ]
    }
   ],
   "source": [
    "L = [1 , 2 , 3 , 4 , 5]\n",
    "\n",
    "for i in L:\n",
    "    print(i)"
   ]
  },
  {
   "cell_type": "markdown",
   "metadata": {},
   "source": [
    "<h3>4.2 Ciclos while</h3>\n",
    "\n",
    "Al contrario de lo que ocurre con los ciclos for, los bucles while no se repiten un número determinado de veces, sino mientras se cumpla una condición."
   ]
  },
  {
   "cell_type": "code",
   "execution_count": 71,
   "metadata": {},
   "outputs": [
    {
     "name": "stdout",
     "output_type": "stream",
     "text": [
      "1\n",
      "2\n",
      "3\n",
      "4\n",
      "5\n",
      "6\n",
      "7\n",
      "8\n"
     ]
    }
   ],
   "source": [
    "x = 1\n",
    "while (x <= 5):\n",
    "    print(x)\n",
    "    x+=1"
   ]
  },
  {
   "cell_type": "markdown",
   "metadata": {},
   "source": [
    "<a id=\"section5\"></a>\n",
    "<h2>5. Funciones</h2>\n",
    "<hr>\n",
    "Un elemento extremadamente útil es la posibilidad de definir y usar funciones. Si bien existen funciones definidas por Python y que nos ofrecen una funcionalidad concreta que no siempre va a adaptarse a nuestras necesidades, Python nos permite definir nuestra propias funciones, lo que tiene dos grandes ventajas:\n",
    "\n",
    "* Nos evita tener que escribir el mismo código una y otra vez en nuestros programas. En lugar de esto movemos ese código a la función e invocamos ésta con los argumentos adecuados cada vez que queramos ejecutar esas instrucciones.\n",
    "* También nos permiten sacar más provecho de nuestro trabajo al poder reutilizar estas funciones en nuestros programas.\n",
    "\n",
    "<h3>5.1 Funciones predefinidas</h3>\n",
    "\n",
    "Tenemos una serie de funciones predefinidas en Python que nos ayudan a expandir más lo que podemos hacer con este lenguaje:\n",
    "\n",
    "* La entrada y salida de información se hacen con la función `print` y la función `input`:\n",
    "* Tenemos algunas funciones matemáticas como: `abs`, `divmod`, `hex`, `max`, `min`,...\n",
    "* Hay funciones que trabajan con caracteres y cadenas: `ascii`, `chr`, `format`, `repr`,...\n",
    "* Además tenemos funciones que crean o convierten a determinados tipos de datos: `int`, `float`, `str`, `bool`, `range`, `dict`, `list`, ...\n",
    "\n",
    "<h3>5.2 Creando nuestras propias funciones</h3>\n",
    "\n",
    "En su forma más simple, la función es llamada sin ningún argumento y no devuelve ningún valor, simplemente ejecuta el código que contiene:"
   ]
  },
  {
   "cell_type": "code",
   "execution_count": 76,
   "metadata": {},
   "outputs": [],
   "source": [
    "def saludar():\n",
    "    print(\"Hola\")"
   ]
  },
  {
   "cell_type": "code",
   "execution_count": 77,
   "metadata": {},
   "outputs": [
    {
     "name": "stdout",
     "output_type": "stream",
     "text": [
      "Hola\n"
     ]
    }
   ],
   "source": [
    "saludar()"
   ]
  },
  {
   "cell_type": "markdown",
   "metadata": {},
   "source": [
    "También podemos crear funciones que exijan uno o mas argumentos para ejecutarse:"
   ]
  },
  {
   "cell_type": "code",
   "execution_count": 78,
   "metadata": {},
   "outputs": [],
   "source": [
    "def saludar(nombre):\n",
    "    print(\"Hola {}\".format(nombre))"
   ]
  },
  {
   "cell_type": "code",
   "execution_count": 82,
   "metadata": {},
   "outputs": [
    {
     "name": "stdout",
     "output_type": "stream",
     "text": [
      "Hola Jose\n"
     ]
    }
   ],
   "source": [
    "saludar(\"Jose\")"
   ]
  },
  {
   "cell_type": "markdown",
   "metadata": {},
   "source": [
    "<a id=\"section6\"></a>\n",
    "<h2>6. Ejercicios</h2>\n",
    "<hr>\n",
    "Ahora ejercitemos un poco con 6 ejercicios:"
   ]
  },
  {
   "cell_type": "markdown",
   "metadata": {},
   "source": [
    "### 6.1 Ejercicio 1\n",
    "\n",
    "Escriba un programa que encuentre todos los números divisibles por 7 pero que no son múltiplos de 5 entre el 2000 y el 3500 (Ambos incluidos). Debe mostrar los números separados por una coma.\n",
    "\n",
    "\n",
    "<!-- The answer is below:\n",
    "\n",
    "l=[]\n",
    "for i in range(2000, 3201):\n",
    "    if (i%7==0) and (i%5!=0):\n",
    "        l.append(str(i))\n",
    "\n",
    "print ','.join(l)\n",
    "\n",
    "-->"
   ]
  },
  {
   "cell_type": "code",
   "execution_count": 1,
   "metadata": {},
   "outputs": [
    {
     "name": "stdout",
     "output_type": "stream",
     "text": [
      "[2002, 2009, 2016, 2023, 2037, 2044, 2051, 2058, 2072, 2079, 2086, 2093, 2107, 2114, 2121, 2128, 2142, 2149, 2156, 2163, 2177, 2184, 2191, 2198, 2212, 2219, 2226, 2233, 2247, 2254, 2261, 2268, 2282, 2289, 2296, 2303, 2317, 2324, 2331, 2338, 2352, 2359, 2366, 2373, 2387, 2394, 2401, 2408, 2422, 2429, 2436, 2443, 2457, 2464, 2471, 2478, 2492, 2499, 2506, 2513, 2527, 2534, 2541, 2548, 2562, 2569, 2576, 2583, 2597, 2604, 2611, 2618, 2632, 2639, 2646, 2653, 2667, 2674, 2681, 2688, 2702, 2709, 2716, 2723, 2737, 2744, 2751, 2758, 2772, 2779, 2786, 2793, 2807, 2814, 2821, 2828, 2842, 2849, 2856, 2863, 2877, 2884, 2891, 2898, 2912, 2919, 2926, 2933, 2947, 2954, 2961, 2968, 2982, 2989, 2996, 3003, 3017, 3024, 3031, 3038, 3052, 3059, 3066, 3073, 3087, 3094, 3101, 3108, 3122, 3129, 3136, 3143, 3157, 3164, 3171, 3178, 3192, 3199, 3206, 3213, 3227, 3234, 3241, 3248, 3262, 3269, 3276, 3283, 3297, 3304, 3311, 3318, 3332, 3339, 3346, 3353, 3367, 3374, 3381, 3388, 3402, 3409, 3416, 3423, 3437, 3444, 3451, 3458, 3472, 3479, 3486, 3493]\n"
     ]
    }
   ],
   "source": [
    "L = [ ]\n",
    "X = list(range(2000,3500))\n",
    "\n",
    "for i in X:\n",
    "    if (i % 7 == 0) and (i % 5 != 0):\n",
    "        L.append(i)\n",
    "    else:\n",
    "        pass\n",
    "\n",
    "print(L)"
   ]
  },
  {
   "cell_type": "markdown",
   "metadata": {},
   "source": [
    "### 6.2 Ejercicio 2\n",
    "\n",
    "Escriba un programa que encuentre todos los números entre 1000 y 3000 (Ambos incluidos) donde cada digito es un número par. Debe mostrar los números separados por una coma.\n",
    "\n",
    "\n",
    "<!-- The answer is below:\n",
    "\n",
    "values = []\n",
    "for i in range(1000, 3001):\n",
    "    s = str(i)\n",
    "    if (int(s[0])%2==0) and (int(s[1])%2==0) and (int(s[2])%2==0) and (int(s[3])%2==0):\n",
    "        values.append(s)\n",
    "print \",\".join(values)\n",
    "\n",
    "-->\n"
   ]
  },
  {
   "cell_type": "code",
   "execution_count": 99,
   "metadata": {},
   "outputs": [
    {
     "name": "stdout",
     "output_type": "stream",
     "text": [
      "['2000', '2002', '2004', '2006', '2008', '2020', '2022', '2024', '2026', '2028', '2040', '2042', '2044', '2046', '2048', '2060', '2062', '2064', '2066', '2068', '2080', '2082', '2084', '2086', '2088', '2200', '2202', '2204', '2206', '2208', '2220', '2222', '2224', '2226', '2228', '2240', '2242', '2244', '2246', '2248', '2260', '2262', '2264', '2266', '2268', '2280', '2282', '2284', '2286', '2288', '2400', '2402', '2404', '2406', '2408', '2420', '2422', '2424', '2426', '2428', '2440', '2442', '2444', '2446', '2448', '2460', '2462', '2464', '2466', '2468', '2480', '2482', '2484', '2486', '2488', '2600', '2602', '2604', '2606', '2608', '2620', '2622', '2624', '2626', '2628', '2640', '2642', '2644', '2646', '2648', '2660', '2662', '2664', '2666', '2668', '2680', '2682', '2684', '2686', '2688', '2800', '2802', '2804', '2806', '2808', '2820', '2822', '2824', '2826', '2828', '2840', '2842', '2844', '2846', '2848', '2860', '2862', '2864', '2866', '2868', '2880', '2882', '2884', '2886', '2888']\n"
     ]
    }
   ],
   "source": [
    "L = []\n",
    "X = list(range(1000,3000))\n",
    "\n",
    "for i in X:\n",
    "    string = str(i)\n",
    "    if (int(string[0]) % 2 == 0) and (int(string[1]) % 2 == 0) and (int(string[2]) % 2 == 0) and (int(string[3]) % 2 == 0):\n",
    "        L.append(string)\n",
    "    else:\n",
    "        pass\n",
    "\n",
    "print(L)"
   ]
  },
  {
   "cell_type": "markdown",
   "metadata": {},
   "source": [
    "### 6.3 Ejercicio 3\n",
    "\n",
    "Escribir un programa que calcule su balance en la cuenta de banco basado en su historial de transacciones entregado por un input. El historial de transacciones tiene el siguiente formato:\n",
    "\n",
    "- D 100\n",
    "- W 200\n",
    "\n",
    "D significa depósito mientras W significa retiro.\n",
    "\n",
    "Si suponemos que le ingresamos las siguientes transacciones al programa:\n",
    "\n",
    "- D 300\n",
    "- D 300\n",
    "- W 200\n",
    "- D 100\n",
    "\n",
    "Entonces el programa debe mostrarnos\n",
    "\n",
    "- Su balance es de 500\n",
    "\n",
    "<!-- The answer is below:\n",
    "\n",
    "netAmount = 0\n",
    "while True:\n",
    "    s = raw_input()\n",
    "    if not s:\n",
    "        break\n",
    "    values = s.split(\" \")\n",
    "    operation = values[0]\n",
    "    amount = int(values[1])\n",
    "    if operation==\"D\":\n",
    "        netAmount+=amount\n",
    "    elif operation==\"W\":\n",
    "        netAmount-=amount\n",
    "    else:\n",
    "        pass\n",
    "print netAmount\n",
    "\n",
    "-->"
   ]
  },
  {
   "cell_type": "code",
   "execution_count": null,
   "metadata": {},
   "outputs": [],
   "source": []
  },
  {
   "cell_type": "markdown",
   "metadata": {},
   "source": [
    "### 6.4 Ejercicio 4\n",
    "\n",
    "Dado un número entero \"n\", escriba un programa que genere un diccionarion que contenga los pares (i, i**2), donde i es un número entero entre 1 y n (ambos incluidos), y que luego imprima el diccionario.\n",
    "\n",
    "Supongamos que uno le entrega al programa el entero 8, entonces el programa debe mostrarnos:\n",
    "\n",
    "{1: 1, 2: 4, 3: 9, 4: 16, 5: 25, 6: 36, 7: 49, 8: 64}\n",
    "\n",
    "\n",
    "\n",
    "<!-- The answer is below:\n",
    "\n",
    "n=int(raw_input())\n",
    "d=dict()\n",
    "for i in range(1,n+1):\n",
    "    d[i]=i*i\n",
    "\n",
    "print d\n",
    "\n",
    "\n",
    "-->\n",
    "\n"
   ]
  },
  {
   "cell_type": "code",
   "execution_count": null,
   "metadata": {},
   "outputs": [],
   "source": []
  },
  {
   "cell_type": "markdown",
   "metadata": {},
   "source": [
    "### 6.5 Ejercicio 5\n",
    "\n",
    "Defina una función que reciba un número enter como argumento, y diga si el número es par o impar.\n",
    "\n",
    "\n",
    "<!-- The answer is below:\n",
    "\n",
    "def checkValue(n):\n",
    "\tif n%2 == 0:\n",
    "\t\tprint \"It is an even number\"\n",
    "\telse:\n",
    "\t\tprint \"It is an odd number\"\n",
    "\t\t\n",
    "\n",
    "checkValue(7)\n",
    "\n",
    "\n",
    "-->"
   ]
  },
  {
   "cell_type": "code",
   "execution_count": null,
   "metadata": {},
   "outputs": [],
   "source": []
  },
  {
   "cell_type": "markdown",
   "metadata": {},
   "source": [
    "### 6.6 Ejercicio 6\n",
    "\n",
    "Dada una lista cualquiera de números enteros, escriba un programa que remueva todos los duplicados de la lista pero que conserve el orden original de los elementos:\n",
    "\n",
    "\n",
    "<!-- The answer is below:\n",
    "\n",
    "def removeDuplicate( li ):\n",
    "    newli=[]\n",
    "    seen = set()\n",
    "    for item in li:\n",
    "        if item not in seen:\n",
    "            seen.add( item )\n",
    "            newli.append(item)\n",
    "\n",
    "    return newli\n",
    "\n",
    "li=[12,24,35,24,88,120,155,88,120,155]\n",
    "print removeDuplicate(li)\n",
    "\n",
    "-->"
   ]
  },
  {
   "cell_type": "code",
   "execution_count": null,
   "metadata": {},
   "outputs": [],
   "source": []
  }
 ],
 "metadata": {
  "kernelspec": {
   "display_name": "Python 3",
   "language": "python",
   "name": "python3"
  },
  "language_info": {
   "codemirror_mode": {
    "name": "ipython",
    "version": 3
   },
   "file_extension": ".py",
   "mimetype": "text/x-python",
   "name": "python",
   "nbconvert_exporter": "python",
   "pygments_lexer": "ipython3",
   "version": "3.7.6"
  }
 },
 "nbformat": 4,
 "nbformat_minor": 4
}
